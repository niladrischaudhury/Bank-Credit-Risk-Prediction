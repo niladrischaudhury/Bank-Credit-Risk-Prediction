{
 "cells": [
  {
   "cell_type": "code",
   "execution_count": 35,
   "metadata": {},
   "outputs": [],
   "source": [
    "import numpy as np\n",
    "import pandas as pd\n",
    "\n",
    "import os"
   ]
  },
  {
   "cell_type": "code",
   "execution_count": 42,
   "metadata": {},
   "outputs": [],
   "source": [
    "#df = pd.read_table('data\\SouthGermanCredit.asc', sep = ' ')\n",
    "#df = pd.read_table('SouthGermanCredit.asc', sep = ' ')\n",
    "#df = pd.read_table(\"F:\\\\iNeuron\\\\Project\\\\Bank-Credit-Risk-Prediction\\\\banking\\\\artifact\\\\data_ingestion\\\\2022-07-26-23-21-43\\\\main_data\\\\SouthGermanCredit.asc\", sep = ' ')\n",
    "df = pd.read_table(\"F:\\\\iNeuron\\\\Project\\\\Bank-Credit-Risk-Prediction\\\\banking\\\\artifact\\\\data_ingestion\\\\2022-07-27-19-44-05\\\\ingested_data\\\\test\\\\SouthGermanCredit.asc\")\n",
    "#df.rename(columns = {'laufkont':'status', 'laufzeit':'duration', 'moral': 'credit_history', \n",
    "#                                                 'verw': 'purpose', 'hoehe': 'amount', 'sparkont': 'savings', \n",
    "#                                                 'beszeit': 'employment_duration', 'rate': 'installment_rate', 'famges': 'personal_status_sex', \n",
    "#                                                 'buerge': 'other_debtors', 'wohnzeit': 'present_residence', 'verm': 'property', \n",
    "#                                                 'alter': 'age', 'weitkred': 'other_installment_plans', 'wohn': 'housing', \n",
    "#                                                 'bishkred': 'number_credits', 'beruf': 'job', 'pers': 'people_liable', \n",
    "#                                                 'telef': 'telephone',  'gastarb':'foreign_worker', 'kredit': 'credit_risk'}, \n",
    "#                                                 inplace = True)"
   ]
  },
  {
   "cell_type": "code",
   "execution_count": 43,
   "metadata": {},
   "outputs": [
    {
     "data": {
      "text/html": [
       "<div>\n",
       "<style scoped>\n",
       "    .dataframe tbody tr th:only-of-type {\n",
       "        vertical-align: middle;\n",
       "    }\n",
       "\n",
       "    .dataframe tbody tr th {\n",
       "        vertical-align: top;\n",
       "    }\n",
       "\n",
       "    .dataframe thead th {\n",
       "        text-align: right;\n",
       "    }\n",
       "</style>\n",
       "<table border=\"1\" class=\"dataframe\">\n",
       "  <thead>\n",
       "    <tr style=\"text-align: right;\">\n",
       "      <th></th>\n",
       "      <th>status,duration,credit_history,purpose,amount,savings,employment_duration,installment_rate,personal_status_sex,other_debtors,present_residence,property,age,other_installment_plans,housing,number_credits,job,people_liable,telephone,foreign_worker</th>\n",
       "    </tr>\n",
       "  </thead>\n",
       "  <tbody>\n",
       "    <tr>\n",
       "      <th>0</th>\n",
       "      <td>1,15,2,0,2511,1,1,1,2,1,4,3,23,3,1,1,3,2,1,2</td>\n",
       "    </tr>\n",
       "    <tr>\n",
       "      <th>1</th>\n",
       "      <td>4,4,4,0,3380,1,4,1,2,1,1,1,37,3,2,1,3,1,1,2</td>\n",
       "    </tr>\n",
       "    <tr>\n",
       "      <th>2</th>\n",
       "      <td>4,12,2,2,1574,1,3,4,3,1,2,1,50,3,2,1,3,2,1,2</td>\n",
       "    </tr>\n",
       "    <tr>\n",
       "      <th>3</th>\n",
       "      <td>4,12,4,3,930,5,5,4,3,1,4,1,65,3,2,4,3,2,1,2</td>\n",
       "    </tr>\n",
       "    <tr>\n",
       "      <th>4</th>\n",
       "      <td>1,48,2,9,4308,1,2,3,2,1,4,2,24,3,1,1,3,2,1,2</td>\n",
       "    </tr>\n",
       "  </tbody>\n",
       "</table>\n",
       "</div>"
      ],
      "text/plain": [
       "  status,duration,credit_history,purpose,amount,savings,employment_duration,installment_rate,personal_status_sex,other_debtors,present_residence,property,age,other_installment_plans,housing,number_credits,job,people_liable,telephone,foreign_worker\n",
       "0       1,15,2,0,2511,1,1,1,2,1,4,3,23,3,1,1,3,2,1,2                                                                                                                                                                                                   \n",
       "1        4,4,4,0,3380,1,4,1,2,1,1,1,37,3,2,1,3,1,1,2                                                                                                                                                                                                   \n",
       "2       4,12,2,2,1574,1,3,4,3,1,2,1,50,3,2,1,3,2,1,2                                                                                                                                                                                                   \n",
       "3        4,12,4,3,930,5,5,4,3,1,4,1,65,3,2,4,3,2,1,2                                                                                                                                                                                                   \n",
       "4       1,48,2,9,4308,1,2,3,2,1,4,2,24,3,1,1,3,2,1,2                                                                                                                                                                                                   "
      ]
     },
     "execution_count": 43,
     "metadata": {},
     "output_type": "execute_result"
    }
   ],
   "source": [
    "df.head()"
   ]
  },
  {
   "cell_type": "code",
   "execution_count": 39,
   "metadata": {},
   "outputs": [
    {
     "data": {
      "text/plain": [
       "status                     int64\n",
       "duration                   int64\n",
       "credit_history             int64\n",
       "purpose                    int64\n",
       "amount                     int64\n",
       "savings                    int64\n",
       "employment_duration        int64\n",
       "installment_rate           int64\n",
       "personal_status_sex        int64\n",
       "other_debtors              int64\n",
       "present_residence          int64\n",
       "property                   int64\n",
       "age                        int64\n",
       "other_installment_plans    int64\n",
       "housing                    int64\n",
       "number_credits             int64\n",
       "job                        int64\n",
       "people_liable              int64\n",
       "telephone                  int64\n",
       "foreign_worker             int64\n",
       "credit_risk                int64\n",
       "dtype: object"
      ]
     },
     "execution_count": 39,
     "metadata": {},
     "output_type": "execute_result"
    }
   ],
   "source": [
    "df.dtypes"
   ]
  },
  {
   "cell_type": "code",
   "execution_count": 38,
   "metadata": {},
   "outputs": [
    {
     "data": {
      "text/plain": [
       "Index(['status', 'duration', 'credit_history', 'purpose', 'amount', 'savings',\n",
       "       'employment_duration', 'installment_rate', 'personal_status_sex',\n",
       "       'other_debtors', 'present_residence', 'property', 'age',\n",
       "       'other_installment_plans', 'housing', 'number_credits', 'job',\n",
       "       'people_liable', 'telephone', 'foreign_worker', 'credit_risk'],\n",
       "      dtype='object')"
      ]
     },
     "execution_count": 38,
     "metadata": {},
     "output_type": "execute_result"
    }
   ],
   "source": [
    "columns = df.columns\n",
    "columns"
   ]
  },
  {
   "cell_type": "code",
   "execution_count": 33,
   "metadata": {},
   "outputs": [
    {
     "data": {
      "text/plain": [
       "['int64',\n",
       " 'int64',\n",
       " 'int64',\n",
       " 'int64',\n",
       " 'int64',\n",
       " 'int64',\n",
       " 'int64',\n",
       " 'int64',\n",
       " 'int64',\n",
       " 'int64',\n",
       " 'int64',\n",
       " 'int64',\n",
       " 'int64',\n",
       " 'int64',\n",
       " 'int64',\n",
       " 'int64',\n",
       " 'int64',\n",
       " 'int64',\n",
       " 'int64',\n",
       " 'int64',\n",
       " 'int64']"
      ]
     },
     "execution_count": 33,
     "metadata": {},
     "output_type": "execute_result"
    }
   ],
   "source": [
    "data_type = list(map(lambda x:str(x).replace(\"dtype('\",\"\").replace(\"')\",\"\"), df.dtypes.values))\n",
    "data_type"
   ]
  },
  {
   "cell_type": "code",
   "execution_count": 34,
   "metadata": {},
   "outputs": [
    {
     "data": {
      "text/plain": [
       "{'status': 'int64',\n",
       " 'duration': 'int64',\n",
       " 'credit_history': 'int64',\n",
       " 'purpose': 'int64',\n",
       " 'amount': 'int64',\n",
       " 'savings': 'int64',\n",
       " 'employment_duration': 'int64',\n",
       " 'installment_rate': 'int64',\n",
       " 'personal_status_sex': 'int64',\n",
       " 'other_debtors': 'int64',\n",
       " 'present_residence': 'int64',\n",
       " 'property': 'int64',\n",
       " 'age': 'int64',\n",
       " 'other_installment_plans': 'int64',\n",
       " 'housing': 'int64',\n",
       " 'number_credits': 'int64',\n",
       " 'job': 'int64',\n",
       " 'people_liable': 'int64',\n",
       " 'telephone': 'int64',\n",
       " 'foreign_worker': 'int64',\n",
       " 'credit_risk': 'int64'}"
      ]
     },
     "execution_count": 34,
     "metadata": {},
     "output_type": "execute_result"
    }
   ],
   "source": [
    "dict(zip(columns, data_type))"
   ]
  },
  {
   "cell_type": "code",
   "execution_count": null,
   "metadata": {},
   "outputs": [],
   "source": []
  }
 ],
 "metadata": {
  "kernelspec": {
   "display_name": "Python 3.7.0 (conda)",
   "language": "python",
   "name": "python3"
  },
  "language_info": {
   "codemirror_mode": {
    "name": "ipython",
    "version": 3
   },
   "file_extension": ".py",
   "mimetype": "text/x-python",
   "name": "python",
   "nbconvert_exporter": "python",
   "pygments_lexer": "ipython3",
   "version": "3.7.0"
  },
  "orig_nbformat": 4,
  "vscode": {
   "interpreter": {
    "hash": "d596cdbc7b2b686bf33cd138aae62bee3c46cff5f2ea9c06b647622f22fe689e"
   }
  }
 },
 "nbformat": 4,
 "nbformat_minor": 2
}
